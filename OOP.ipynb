{
 "cells": [
  {
   "cell_type": "markdown",
   "metadata": {},
   "source": [
    "## Link Data"
   ]
  },
  {
   "cell_type": "code",
   "execution_count": 73,
   "metadata": {},
   "outputs": [],
   "source": [
    "class Node:\n",
    "    def __init__(self, data):\n",
    "        self.data = data\n",
    "        self.nextNode = None\n",
    "        \n",
    "        \n",
    "class LinkedList:\n",
    "    def __init__(self):\n",
    "        self.head = None\n",
    "        self.nomOfNodes = 0\n",
    "        \n",
    "    def insert_start(self, data):\n",
    "        self.nomOfNodes = self.nomOfNodes + 1\n",
    "        new_node = Node(data)\n",
    "        \n",
    "        if not self.head:\n",
    "            self.head = new_node\n",
    "        else:\n",
    "            new_node.nextNode = self.head\n",
    "            self.head = new_node\n",
    "            \n",
    "    def insert_end(self, data):\n",
    "        self.nomOfNodes = self.nomOfNodes + 1\n",
    "        new_node = Node(data)\n",
    "        \n",
    "        actual_node =  self.head\n",
    "        \n",
    "        while actual_node.nextNode is not None:\n",
    "            actual_node = actual_node.nextNode\n",
    "        \n",
    "        actual_node.nextNode = new_node\n",
    "        \n",
    "        \n",
    "    def remove(self, data):\n",
    "        if self.head is None:\n",
    "            return\n",
    "        \n",
    "        actual_node = self.head\n",
    "        previous_node = None\n",
    "        \n",
    "        while actual_node is not None and actual_node.data != data:\n",
    "            previous_node = actual_node\n",
    "            actual_node = actual_node.nextNode\n",
    "            \n",
    "            # search miss - the item not present in linklist\n",
    "        if actual_node is None:\n",
    "            return\n",
    "        \n",
    "        self.nomOfNodes = self.nomOfNodes- 1\n",
    "        \n",
    "        if previous_node is None:\n",
    "            self.head = actual_node.nextNode\n",
    "        else:\n",
    "            previous_node.nextNode = actual_node.nextNode\n",
    "        \n",
    "    def size_of_list(self):\n",
    "        return self.nomOfNodes\n",
    "    \n",
    "    def traverse(self):\n",
    "        \n",
    "        # intiate the actusl node to first node\n",
    "        actual_node = self.head\n",
    "        \n",
    "        #if actual node is note null then print it , and set the actual node to next node\n",
    "        while actual_node is not None:\n",
    "            print(actual_node.data)\n",
    "            actual_node = actual_node.nextNode\n",
    "        \n",
    "    "
   ]
  },
  {
   "cell_type": "code",
   "execution_count": 76,
   "metadata": {},
   "outputs": [
    {
     "name": "stdout",
     "output_type": "stream",
     "text": [
      "323424\n",
      "3435\n",
      "43\n",
      "4\n",
      "32as4\n",
      "32asdads4\n",
      "size of  6\n",
      "---------------------------------\n",
      "323424\n",
      "3435\n",
      "43\n",
      "32as4\n",
      "32asdads4\n",
      "size of  5\n"
     ]
    }
   ],
   "source": [
    "linked_list = LinkedList()\n",
    "linked_list.insert_start(4)\n",
    "linked_list.insert_start(43)\n",
    "linked_list.insert_start(3435)\n",
    "linked_list.insert_start(323424)\n",
    "linked_list.insert_end('32as4')\n",
    "linked_list.insert_end('32asdads4')\n",
    "\n",
    "linked_list.traverse()\n",
    "print(\"size of \" , linked_list.size_of_list())\n",
    "linked_list.remove(4)\n",
    "print(\"---------------------------------\") \n",
    "\n",
    "linked_list.traverse()\n",
    "print(\"size of \" , linked_list.size_of_list())"
   ]
  },
  {
   "cell_type": "code",
   "execution_count": null,
   "metadata": {},
   "outputs": [],
   "source": []
  },
  {
   "cell_type": "markdown",
   "metadata": {},
   "source": [
    "## Stack\n",
    "Stacks and queues are abstract data types. The underlying data structure can be an array or a linked list"
   ]
  },
  {
   "cell_type": "code",
   "execution_count": 110,
   "metadata": {},
   "outputs": [],
   "source": [
    "# LIFO - Last inserted Fist take out\n",
    "\n",
    "class Stack:\n",
    "    \n",
    "    def __init__(self):\n",
    "        self.stack = []\n",
    "    \n",
    "#     insert item into the stack\n",
    "    def push(self,data):\n",
    "        \n",
    "        self.stack.append(data)\n",
    "        \n",
    "#     remove and return the item    \n",
    "    def pop(self):\n",
    "        \n",
    "        if self.stack_size() <1:\n",
    "            return -1\n",
    "        \n",
    "        data  = self.stack[-1]\n",
    "        del self.stack[-1]\n",
    "        return data\n",
    "    \n",
    "    def peek(self):\n",
    "        \n",
    "        data  = self.stack[-1]\n",
    "        return data\n",
    "    \n",
    "    def is_empty(self):\n",
    "        \n",
    "        return self.stack == []\n",
    "    \n",
    "    def stack_size(self):\n",
    "        \n",
    "        return len(self.stack)\n",
    "        \n",
    " \n",
    "        \n",
    "        \n",
    "        \n",
    "        \n",
    "        "
   ]
  },
  {
   "cell_type": "code",
   "execution_count": 112,
   "metadata": {},
   "outputs": [],
   "source": [
    "stack = Stack()\n",
    "stack.push(2)\n",
    "stack.push(3)\n",
    "stack.push(4)\n",
    "stack.push(5)"
   ]
  },
  {
   "cell_type": "code",
   "execution_count": 113,
   "metadata": {},
   "outputs": [
    {
     "name": "stdout",
     "output_type": "stream",
     "text": [
      "Size  4\n"
     ]
    }
   ],
   "source": [
    "print(\"Size \", stack.stack_size())"
   ]
  },
  {
   "cell_type": "code",
   "execution_count": 117,
   "metadata": {},
   "outputs": [
    {
     "data": {
      "text/plain": [
       "-1"
      ]
     },
     "execution_count": 117,
     "metadata": {},
     "output_type": "execute_result"
    }
   ],
   "source": [
    "stack.pop()\n",
    "stack.pop()\n",
    "stack.pop()"
   ]
  },
  {
   "cell_type": "code",
   "execution_count": 118,
   "metadata": {},
   "outputs": [
    {
     "name": "stdout",
     "output_type": "stream",
     "text": [
      "Size  0\n"
     ]
    }
   ],
   "source": [
    "print(\"Size \", stack.stack_size())"
   ]
  },
  {
   "cell_type": "code",
   "execution_count": 119,
   "metadata": {},
   "outputs": [
    {
     "name": "stdout",
     "output_type": "stream",
     "text": [
      "True\n"
     ]
    }
   ],
   "source": [
    "print(stack.is_empty())"
   ]
  },
  {
   "cell_type": "markdown",
   "metadata": {},
   "source": [
    "# Queue"
   ]
  },
  {
   "cell_type": "code",
   "execution_count": 134,
   "metadata": {},
   "outputs": [],
   "source": [
    "# FIFO -  First in First Out\n",
    "\n",
    "class Queue:\n",
    "    def __init__(self):\n",
    "        self.queue = []\n",
    "        \n",
    "    def is_empty(self):\n",
    "        return self.queue == []\n",
    "    \n",
    "    def enqueue(self, data):\n",
    "        self.queue.append(data)\n",
    "            \n",
    "    def dequeue(self):\n",
    "        \n",
    "        if self.size_queue() < 1:\n",
    "            return -1  \n",
    "        \n",
    "        data = self.queue[0]\n",
    "        del self.queue[0]\n",
    "        return data\n",
    "    \n",
    "    def peek(self):\n",
    "        return slef.queue[0]\n",
    "    \n",
    "    def size_queue(self):\n",
    "        return len(self.queue)\n",
    "    \n",
    "    \n",
    "    "
   ]
  },
  {
   "cell_type": "code",
   "execution_count": 135,
   "metadata": {},
   "outputs": [],
   "source": [
    "queue = Queue()\n",
    "queue.enqueue(1)\n",
    "queue.enqueue(2)\n",
    "queue.enqueue(4)\n",
    "queue.enqueue(5)"
   ]
  },
  {
   "cell_type": "code",
   "execution_count": 136,
   "metadata": {},
   "outputs": [
    {
     "data": {
      "text/plain": [
       "4"
      ]
     },
     "execution_count": 136,
     "metadata": {},
     "output_type": "execute_result"
    }
   ],
   "source": [
    "queue.size_queue()"
   ]
  },
  {
   "cell_type": "code",
   "execution_count": 141,
   "metadata": {},
   "outputs": [
    {
     "data": {
      "text/plain": [
       "True"
      ]
     },
     "execution_count": 141,
     "metadata": {},
     "output_type": "execute_result"
    }
   ],
   "source": [
    "queue.is_empty()"
   ]
  },
  {
   "cell_type": "code",
   "execution_count": 140,
   "metadata": {},
   "outputs": [
    {
     "data": {
      "text/plain": [
       "-1"
      ]
     },
     "execution_count": 140,
     "metadata": {},
     "output_type": "execute_result"
    }
   ],
   "source": [
    "queue.dequeue()\n",
    "queue.dequeue()\n",
    "queue.dequeue()\n",
    "queue.dequeue()"
   ]
  },
  {
   "cell_type": "markdown",
   "metadata": {},
   "source": [
    "# Binary Search Tree \n",
    "\n",
    "Start with root node item\n",
    "then check the next item is lesstn ore grater than of previus.\n",
    "if it less then put it on left side\n",
    "if it greter then put it on right side\n",
    "\n",
    "The left most node will contain min value\n",
    "The right most node will contain Max value\n",
    "\n"
   ]
  },
  {
   "cell_type": "code",
   "execution_count": 116,
   "metadata": {},
   "outputs": [],
   "source": [
    "class Node:\n",
    "    \n",
    "    def __init__(self, data, parent):\n",
    "        self.data = data\n",
    "        self.leftChild = None\n",
    "        self.rightChild = None\n",
    "        self.parent = parent\n",
    "        \n",
    "class BinarySearchTree:\n",
    "    \n",
    "    # initiate root node to null\n",
    "    def __init__(self):\n",
    "        self.root = None\n",
    "        \n",
    "    #isert item the node \n",
    "    def insert(self, data):\n",
    "        # if root node is null (tree is empty) intiate the tree wth the  item by puting as root\n",
    "        if self.root is None:\n",
    "            self.root = Node(data,None)\n",
    "        \n",
    "        #colling isert_node fuction to insert item to chiled to the root \n",
    "        else:\n",
    "            self.insert_node(data, self.root)\n",
    "            \n",
    "            \n",
    " # insert item the perticuler node\n",
    "    def insert_node(self,data, node):\n",
    "#         print('insert')\n",
    "\n",
    "        # we have to go to left tree,  if it less than root , put it as left child\n",
    "        if data < node.data:\n",
    "#             print('insert left')\n",
    "            #if it have left child then recurcivly call yhe insert node function\n",
    "            if node.leftChild:\n",
    "                self.insert_node(data, node.leftChild)\n",
    "            # if it is not have left child then put the item as left child\n",
    "            else:\n",
    "                node.leftChild = Node(data, None)\n",
    "\n",
    "\n",
    "        # we have to got yo right tree\n",
    "        else:\n",
    "#             print('insert right')\n",
    "            # if tghere is right chhild the recurcively call tghe nsert_node function untill find the last node\n",
    "            if node.rightChild:\n",
    "                self.insert_node(data, node.rightChild)\n",
    "            #if the it not con tain right child ot if it is last node then add the item as rightChild\n",
    "            else:\n",
    "                node.rightChild = Node(data, None)\n",
    "    \n",
    "    \n",
    "    def traverse(self):\n",
    "#         print(\"travese\")\n",
    "        if self.root is not None:\n",
    "            self.traverse_in_order(self.root)\n",
    "    \n",
    "    def traverse_in_order(self, node):\n",
    "        \n",
    "        if node.leftChild:\n",
    "            self.traverse_in_order(node.leftChild)\n",
    "        \n",
    "        print('%s' % node.data)\n",
    "        \n",
    "        if node.rightChild:\n",
    "            self.traverse_in_order(node.rightChild)\n",
    "            \n",
    "        \n",
    "        \n",
    "    \n",
    "        "
   ]
  },
  {
   "cell_type": "code",
   "execution_count": 117,
   "metadata": {},
   "outputs": [
    {
     "name": "stdout",
     "output_type": "stream",
     "text": [
      "3\n",
      "37\n",
      "39\n",
      "53\n",
      "57\n",
      "523\n",
      "563\n"
     ]
    }
   ],
   "source": [
    "bst =  BinarySearchTree()\n",
    "bst.insert(3)\n",
    "bst.insert(53)\n",
    "bst.insert(57)\n",
    "bst.insert(37)\n",
    "bst.insert(563)\n",
    "bst.insert(39)\n",
    "bst.insert(523)\n",
    "\n",
    "bst.traverse()"
   ]
  },
  {
   "cell_type": "code",
   "execution_count": 60,
   "metadata": {},
   "outputs": [],
   "source": [
    "class Car: \n",
    "    \n",
    "    is_aproved = True # class object attribute\n",
    "    def __init__(self, wheel,name):\n",
    "        if self.is_aproved:\n",
    "            self.wheel = wheel #Attributes\n",
    "            self.name = name\n",
    "        \n",
    "        \n",
    "#     def wheel(self):\n",
    "#         return self.wheel\n",
    "    \n",
    "#     def name(self):\n",
    "#         return self.name\n",
    "\n",
    "\n",
    "car1 = Car(4, \"daf\") # Instanciate\n",
    "car1.color = 'red'"
   ]
  },
  {
   "cell_type": "code",
   "execution_count": 95,
   "metadata": {},
   "outputs": [
    {
     "name": "stdout",
     "output_type": "stream",
     "text": [
      "The oldest cat is 7 years old.\n",
      "5\n",
      "7\n"
     ]
    }
   ],
   "source": [
    "#Given the below class:\n",
    "class Cat:\n",
    "    species = 'mammal'\n",
    "    def __init__(self, name, age):\n",
    "        self._name = name  # _ means its private so do not overwrite it\n",
    "        self._age = age\n",
    "    \n",
    "    @classmethod\n",
    "    def adding_1(cls, num1, num2):\n",
    "        return cls('Teddy',num1 + num2)\n",
    "    \n",
    "    @staticmethod\n",
    "    def adding_2(num1, num2):\n",
    "        return num1 + num2\n",
    "    \n",
    "\n",
    "\n",
    "# 1 Instantiate the Cat object with 3 cats\n",
    "cat1=Cat('Tommy', 3)\n",
    "cat2=Cat('Yommy', 7)\n",
    "cat3=Cat('Pommy', 1)\n",
    "\n",
    "\n",
    "\n",
    "# 2 Create a function that finds the oldest cat\n",
    "def older_cat(cats):\n",
    "    return max(cats)\n",
    "\n",
    "\n",
    "# 3 Print out: \"The oldest cat is x years old.\". x will be the oldest cat age by using the function in #2\n",
    "max_ = older_cat([cat1.age,cat2.age,cat3.age])\n",
    "print(\"The oldest cat is {} years old.\".format(max_))\n",
    "\n",
    "print(cat1.adding_2(2, 3))\n",
    "print(Cat.adding_1( 2, 5).age)"
   ]
  },
  {
   "cell_type": "code",
   "execution_count": 90,
   "metadata": {},
   "outputs": [
    {
     "name": "stdout",
     "output_type": "stream",
     "text": [
      "The oldest cat is 5 years old.\n"
     ]
    }
   ],
   "source": [
    "class Cat:\n",
    "    species = 'mammal'\n",
    "    def __init__(self, name, age):\n",
    "        self.name = name\n",
    "        self.age = age\n",
    "\n",
    "\n",
    "# Instantiate the Cat object with 3 cats\n",
    "peanut = Cat(\"Peanut\", 3)\n",
    "garfield = Cat(\"Garfield\", 5)\n",
    "snickers = Cat(\"Snickers\", 1)\n",
    "\n",
    "\n",
    "# Find the oldest cat\n",
    "def get_oldest_cat(*args):\n",
    "    return max(args)\n",
    "\n",
    "\n",
    "# Output\n",
    "print(f\"The oldest cat is {get_oldest_cat(peanut.age, garfield.age, snickers.age)} years old.\")"
   ]
  },
  {
   "cell_type": "markdown",
   "metadata": {},
   "source": [
    "## 4 Plliers of OOP\n",
    "- Encapsulation\n",
    "- Abstraction\n",
    "- Inheritance\n",
    "- Polymorphism\n",
    "\n",
    "# Ineritance"
   ]
  },
  {
   "cell_type": "code",
   "execution_count": 133,
   "metadata": {},
   "outputs": [
    {
     "data": {
      "text/plain": [
       "'m@g.c'"
      ]
     },
     "execution_count": 133,
     "metadata": {},
     "output_type": "execute_result"
    }
   ],
   "source": [
    "class User():\n",
    "    def __init__(self, email):\n",
    "        self.email = email\n",
    "        \n",
    "    def sign_in(self):\n",
    "        print('logged_in')\n",
    "        \n",
    "    def attack(self):\n",
    "        print(\"Bare Hand attack\")\n",
    "        \n",
    "class Wizerd(User):\n",
    "    def __init__(self, name, power,email):\n",
    "#         User.__init__(self,email)\n",
    "        super().__init__(email) # To bring to initiated variable from parent class to child class\n",
    "        self.name = name \n",
    "        self.power = power\n",
    "        \n",
    "    def attack(self):\n",
    "        print(f\"{self.name} attack with power {self.power}\")\n",
    "        \n",
    "class Archer(User):\n",
    "    def __init__(self, name, arrows):\n",
    "        self.name = name\n",
    "        self.arrows = arrows\n",
    "    \n",
    "    def attack(self):\n",
    "        print(f\"{self.name} attack with {self.arrows}\" )\n",
    "            \n",
    "              \n",
    "wizerd1 = Wizerd('Merlin', 50, 'm@g.c')\n",
    "archer1 = Archer('Robin', 100 )\n",
    "wizerd1.email        \n",
    "        "
   ]
  },
  {
   "cell_type": "code",
   "execution_count": 113,
   "metadata": {},
   "outputs": [
    {
     "name": "stdout",
     "output_type": "stream",
     "text": [
      "Merlin attack with power 50\n",
      "Robin attack with 100\n",
      "logged_in\n",
      "logged_in\n",
      "True\n",
      "True\n",
      "True\n"
     ]
    }
   ],
   "source": [
    "wizerd1.attack()\n",
    "archer1.attack()\n",
    "wizerd1.sign_in()\n",
    "archer1.sign_in()\n",
    "\n",
    "print(isinstance(wizerd1, Wizerd)) #isinstence(instace, class)\n",
    "print(isinstance(wizerd1, User)) #isinstence(instace, class)\n",
    "print(isinstance(wizerd1, object)) #isinstence(instace, class)\n"
   ]
  },
  {
   "cell_type": "markdown",
   "metadata": {},
   "source": [
    "# Polymorphism "
   ]
  },
  {
   "cell_type": "code",
   "execution_count": 120,
   "metadata": {},
   "outputs": [
    {
     "name": "stdout",
     "output_type": "stream",
     "text": [
      "Merlin attack with power 50\n",
      "Robin attack with 100\n"
     ]
    }
   ],
   "source": [
    "def player_attack(char):\n",
    "    char.attack()\n",
    "player_attack(wizerd1)\n",
    "player_attack(archer1)"
   ]
  },
  {
   "cell_type": "code",
   "execution_count": 115,
   "metadata": {},
   "outputs": [
    {
     "name": "stdout",
     "output_type": "stream",
     "text": [
      "Merlin attack with power 50\n",
      "Robin attack with 100\n",
      "logged_in\n",
      "logged_in\n",
      "True\n",
      "True\n",
      "True\n"
     ]
    }
   ],
   "source": [
    "class User():\n",
    "    def __init__(self, name, method):\n",
    "        self.name = name\n",
    "        self.method = method\n",
    "        \n",
    "    def sign_in(self):\n",
    "        print('logged_in')\n",
    "        \n",
    "class Wizerd(User):\n",
    "\n",
    "    def attack(self):\n",
    "        print(f\"{self.name} attack with power {self.method}\")\n",
    "        \n",
    "class Archer(User):\n",
    "    \n",
    "    def attack(self):\n",
    "        print(f\"{self.name} attack with {self.method}\" )\n",
    "            \n",
    "              \n",
    "wizerd1 = Wizerd('Merlin', 50)\n",
    "archer1 = Archer('Robin', 100)\n",
    "        \n",
    "wizerd1.attack()\n",
    "archer1.attack()\n",
    "wizerd1.sign_in()\n",
    "archer1.sign_in()\n",
    "\n",
    "print(isinstance(wizerd1, Wizerd)) #isinstence(instace, class)\n",
    "print(isinstance(wizerd1, User)) #isinstence(instace, class)\n",
    "print(isinstance(wizerd1, object)) #isinstence(instace, class)\n",
    "       "
   ]
  },
  {
   "cell_type": "code",
   "execution_count": 128,
   "metadata": {
    "scrolled": true
   },
   "outputs": [
    {
     "name": "stdout",
     "output_type": "stream",
     "text": [
      "Simon is just walking around\n",
      "Sally is just walking around\n",
      "Gafi is just walking around\n"
     ]
    },
    {
     "data": {
      "text/plain": [
       "'meow'"
      ]
     },
     "execution_count": 128,
     "metadata": {},
     "output_type": "execute_result"
    }
   ],
   "source": [
    "class Pets():\n",
    "    animals = []\n",
    "    def __init__(self, animals):\n",
    "        self.animals = animals\n",
    "\n",
    "    def walk(self):\n",
    "        for animal in self.animals:\n",
    "            print(animal.walk())\n",
    "\n",
    "class Cat():\n",
    "    is_lazy = True\n",
    "\n",
    "    def __init__(self, name, age):\n",
    "        self.name = name\n",
    "        self.age = age\n",
    "\n",
    "    def walk(self):\n",
    "        return f'{self.name} is just walking around'\n",
    "\n",
    "class Simon(Cat):\n",
    "    def sing(self, sounds):\n",
    "        return f'{sounds}'\n",
    "\n",
    "class Sally(Cat):\n",
    "    def sing(self, sounds):\n",
    "        return f'{sounds}'\n",
    "\n",
    "#1 Add nother Cat\n",
    "class Gafi(Cat):\n",
    "    def sing(self, sounds):\n",
    "        return f'{sounds}'\n",
    "\n",
    "\n",
    "#2 Create a list of all of the pets (create 3 cat instances from the above)\n",
    "my_cats = [Simon('Simon', 2),Sally('Sally', 4),Gafi('Gafi', 5)]\n",
    "\n",
    "\n",
    "#3 Instantiate the Pet class with all your cats use variable my_pets\n",
    "my_pets = Pets(my_cats)\n",
    "\n",
    "#4 Output all of the cats walking using the my_pets instance\n",
    "my_pets.walk()\n",
    "\n",
    "simon = Simon('Simon', 2)\n",
    "simon.sing(\"meow\")"
   ]
  },
  {
   "cell_type": "markdown",
   "metadata": {
    "scrolled": true
   },
   "source": [
    "# Dunder Method\n",
    "Can be uded to custumize a class\n",
    "- \"____del____\"\n",
    "- \"__str__\"\n",
    "- \"__call__\"\n",
    "- \"__getitem__\"\n",
    "- \"__len__\""
   ]
  },
  {
   "cell_type": "code",
   "execution_count": 48,
   "metadata": {},
   "outputs": [],
   "source": [
    "class Toy():\n",
    "    def __init__(self, color, age):\n",
    "        self.color = color\n",
    "        self.age = age\n",
    "        self.my_dic = {\"name\":'Yoyo', 'has_pet':False}\n",
    "        \n",
    "    def  __str__(self):\n",
    "        return f'{self.color}'\n",
    "    \n",
    "    def __len__(self):\n",
    "        return 5\n",
    "    \n",
    "    def __call__(self):\n",
    "        return \"Yess\"\n",
    "    \n",
    "    def __getitem__(self, i):\n",
    "        return self.my_dic[i]\n",
    "    \n",
    "action_figure = Toy(\"Red\", 0)\n",
    "\n",
    "list1 = [32,234,234,243]\n",
    "    "
   ]
  },
  {
   "cell_type": "code",
   "execution_count": 49,
   "metadata": {},
   "outputs": [
    {
     "data": {
      "text/plain": [
       "'Red'"
      ]
     },
     "execution_count": 49,
     "metadata": {},
     "output_type": "execute_result"
    }
   ],
   "source": [
    "str(action_figure)\n",
    "action_figure.__str__()"
   ]
  },
  {
   "cell_type": "code",
   "execution_count": 50,
   "metadata": {},
   "outputs": [
    {
     "data": {
      "text/plain": [
       "5"
      ]
     },
     "execution_count": 50,
     "metadata": {},
     "output_type": "execute_result"
    }
   ],
   "source": [
    "len(action_figure)"
   ]
  },
  {
   "cell_type": "code",
   "execution_count": 41,
   "metadata": {},
   "outputs": [
    {
     "data": {
      "text/plain": [
       "4"
      ]
     },
     "execution_count": 41,
     "metadata": {},
     "output_type": "execute_result"
    }
   ],
   "source": [
    "len(list1)"
   ]
  },
  {
   "cell_type": "code",
   "execution_count": 18,
   "metadata": {},
   "outputs": [
    {
     "data": {
      "text/plain": [
       "'Yess'"
      ]
     },
     "execution_count": 18,
     "metadata": {},
     "output_type": "execute_result"
    }
   ],
   "source": [
    "action_figure()"
   ]
  },
  {
   "cell_type": "code",
   "execution_count": 22,
   "metadata": {},
   "outputs": [
    {
     "data": {
      "text/plain": [
       "'Yoyo'"
      ]
     },
     "execution_count": 22,
     "metadata": {},
     "output_type": "execute_result"
    }
   ],
   "source": [
    "action_figure['name']"
   ]
  },
  {
   "cell_type": "code",
   "execution_count": 55,
   "metadata": {},
   "outputs": [
    {
     "name": "stdout",
     "output_type": "stream",
     "text": [
      "1000\n"
     ]
    }
   ],
   "source": [
    "class Superlist(list):\n",
    "    def __int__(self):\n",
    "        self.super_ = super_\n",
    "    def __len__(self):\n",
    "        return 1000\n",
    "    \n",
    "#     def __append__(self, item):\n",
    "#         return super_[1] = item\n",
    "    \n",
    "s_l = Superlist()\n",
    "print(len(s_l))\n",
    "s_l.append(5)"
   ]
  },
  {
   "cell_type": "markdown",
   "metadata": {},
   "source": [
    "#  Multiple Inheritence"
   ]
  },
  {
   "cell_type": "code",
   "execution_count": 66,
   "metadata": {},
   "outputs": [
    {
     "name": "stdout",
     "output_type": "stream",
     "text": [
      "Run faster\n",
      "None\n",
      "logged in\n",
      "None\n",
      "Attack with 100 arrows\n",
      "None\n",
      "attack with 50\n",
      "None\n"
     ]
    }
   ],
   "source": [
    "class User():\n",
    "    def sign_in(self):\n",
    "        print ('logged in')\n",
    "    \n",
    "class Wizerd(User):\n",
    "    def __init__(self, name, power):\n",
    "        self.name = name\n",
    "        self.power = power\n",
    "    \n",
    "    def attack(self):\n",
    "        print (f'attack with {self.power}')\n",
    "        \n",
    "\n",
    "class Archer(User):\n",
    "    def __init__(self,name, arrows):\n",
    "        self.name = name\n",
    "        self.arrows = arrows\n",
    "    \n",
    "    def cheack_arrows(self):\n",
    "        print (f\"Attack with {self.arrows} arrows\")\n",
    "        \n",
    "    def run(self):\n",
    "        print (\"Run faster\")\n",
    "    \n",
    "class HybridBorg(Wizerd, Archer):\n",
    "    def __init__(self,name,power,arrows):\n",
    "        Archer.arrows = arrows\n",
    "        Wizerd.power = power\n",
    "        \n",
    "hb1 = HybridBorg(\"Borgy\", 50 ,  100)\n",
    "print(hb1.run())\n",
    "print(hb1.sign_in())\n",
    "print(hb1.cheack_arrows())\n",
    "print(hb1.attack())\n",
    "     "
   ]
  },
  {
   "cell_type": "markdown",
   "metadata": {},
   "source": [
    "# MRO  - Methode Resolution Order"
   ]
  },
  {
   "cell_type": "code",
   "execution_count": 70,
   "metadata": {},
   "outputs": [
    {
     "name": "stdout",
     "output_type": "stream",
     "text": [
      "(<class '__main__.M'>, <class '__main__.B'>, <class '__main__.A'>, <class '__main__.X'>, <class '__main__.Y'>, <class '__main__.Z'>, <class 'object'>)\n"
     ]
    }
   ],
   "source": [
    "class X: pass\n",
    "class Y:pass\n",
    "class Z:pass\n",
    "class A(X,Y):pass\n",
    "class B(Y,Z):pass\n",
    "\n",
    "class M(B,A,Z):pass\n",
    "\n",
    "print(M.__mro__)"
   ]
  },
  {
   "cell_type": "markdown",
   "metadata": {},
   "source": [
    "# Functional Programming\n",
    "### Pure Function\n",
    "    - Wich will give same out put no matter how maney times its run\n",
    "    - Won't affect the out side world\n",
    "    \n",
    "##### some usefull fuctions\n",
    " - map()\n",
    " - filter()\n",
    " - zip()\n",
    " - reduce()\n",
    " \n",
    " \n",
    " "
   ]
  },
  {
   "cell_type": "code",
   "execution_count": 2,
   "metadata": {},
   "outputs": [
    {
     "name": "stdout",
     "output_type": "stream",
     "text": [
      "[4, 8, 10, 12]\n"
     ]
    }
   ],
   "source": [
    "def multiplyBy_2(li):\n",
    "    output_list = []\n",
    "    for item in li:\n",
    "        output_list.append(item*2)\n",
    "    return output_list\n",
    "\n",
    "input_list = [2,4,5,6]\n",
    "\n",
    "print(multiplyBy_2(input_list))\n",
    "\n",
    "\n"
   ]
  },
  {
   "cell_type": "markdown",
   "metadata": {},
   "source": [
    "# map()`"
   ]
  },
  {
   "cell_type": "code",
   "execution_count": 5,
   "metadata": {},
   "outputs": [
    {
     "name": "stdout",
     "output_type": "stream",
     "text": [
      "[4, 8, 10, 12]\n",
      "[2, 4, 5, 6]\n"
     ]
    }
   ],
   "source": [
    "def multiplyBy_2(item):\n",
    "    return item*2\n",
    "\n",
    "input_list = [2,4,5,6]\n",
    "print(list(map(multiplyBy_2,input_list)))\n",
    "print(input_list)\n"
   ]
  },
  {
   "cell_type": "markdown",
   "metadata": {},
   "source": [
    "# filter()"
   ]
  },
  {
   "cell_type": "code",
   "execution_count": 8,
   "metadata": {},
   "outputs": [
    {
     "name": "stdout",
     "output_type": "stream",
     "text": [
      "[5, 7]\n",
      "[2, 4, 5, 6, 7]\n"
     ]
    }
   ],
   "source": [
    "def only_odd(item):\n",
    "    return item % 2 != 0\n",
    "\n",
    "input_list = [2,4,5,6,7]\n",
    "print(list(filter(only_odd , input_list)))\n",
    "print(input_list)\n",
    "\n"
   ]
  },
  {
   "cell_type": "markdown",
   "metadata": {},
   "source": [
    "# zip()"
   ]
  },
  {
   "cell_type": "code",
   "execution_count": 9,
   "metadata": {},
   "outputs": [
    {
     "name": "stdout",
     "output_type": "stream",
     "text": [
      "[(2, 4, 'A'), (4, 8, 'B'), (5, 10, 'C'), (6, 12, 'D'), (7, 14, 'E')]\n"
     ]
    }
   ],
   "source": [
    "input_list = [2,4,5,6,7]\n",
    "output_list = [4, 8, 10, 12,14]\n",
    "my_list = [\"A\",\"B\",\"C\",\"D\",\"E\"]\n",
    "\n",
    "print(list(zip(input_list,output_list,my_list)))\n",
    "    "
   ]
  },
  {
   "cell_type": "markdown",
   "metadata": {},
   "source": [
    "# reduse()"
   ]
  },
  {
   "cell_type": "code",
   "execution_count": 11,
   "metadata": {},
   "outputs": [
    {
     "name": "stdout",
     "output_type": "stream",
     "text": [
      "24\n"
     ]
    }
   ],
   "source": [
    "from functools import reduce\n",
    "\n",
    "def accumulator(acc, item):\n",
    "    return acc + item\n",
    "\n",
    "input_list = [2,4,5,6,7]\n",
    "print(reduce(accumulator, input_list, 0 ))\n"
   ]
  },
  {
   "cell_type": "code",
   "execution_count": 22,
   "metadata": {},
   "outputs": [
    {
     "name": "stdout",
     "output_type": "stream",
     "text": [
      "['SISI', 'BIBI', 'TITI', 'CARLA']\n",
      "[('a', 1), ('b', 2), ('c', 3), ('d', 4), ('e', 5)]\n",
      "[73, 65, 76, 100, 88]\n",
      "456\n",
      "456\n",
      "[73, 20, 65, 19, 76, 100, 88, 5, 4, 3, 2, 1]\n"
     ]
    }
   ],
   "source": [
    "from functools import reduce\n",
    "\n",
    "#1 Capitalize all of the pet names and print the list\n",
    "my_pets = ['sisi', 'bibi', 'titi', 'carla']\n",
    "\n",
    "\n",
    "def capitalize(item):\n",
    "    return item.upper()\n",
    "\n",
    "print(list(map(capitalize, my_pets)))\n",
    "\n",
    "#2 Zip the 2 lists into a list of tuples, but sort the numbers from lowest to highest.\n",
    "my_strings = ['a', 'b', 'c', 'd', 'e']\n",
    "my_numbers = [5,4,3,2,1]\n",
    "\n",
    "print(list(zip(my_strings,sorted(my_numbers))))\n",
    "    \n",
    "\n",
    "\n",
    "#3 Filter the scores that pass over 50%\n",
    "scores = [73, 20, 65, 19, 76, 100, 88]\n",
    "\n",
    "def max_50(item):\n",
    "    return item > 50\n",
    "print(list(filter(max_50, scores)))\n",
    "\n",
    "\n",
    "#4 Combine all of the numbers that are in a list on this file using reduce (my_numbers and scores). What is the total?\n",
    "def accumulator(acc, item):\n",
    "    return acc + item\n",
    "\n",
    "print(reduce(accumulator, scores, reduce(accumulator, my_numbers, 0)))\n",
    "print(reduce(accumulator, (scores+ my_numbers)))\n",
    "print(scores+ my_numbers)\n",
    "\n"
   ]
  },
  {
   "cell_type": "code",
   "execution_count": 24,
   "metadata": {},
   "outputs": [],
   "source": [
    "from datetime import datetime\n",
    "date = '03-March-2020'"
   ]
  },
  {
   "cell_type": "code",
   "execution_count": 35,
   "metadata": {},
   "outputs": [
    {
     "data": {
      "text/plain": [
       "str"
      ]
     },
     "execution_count": 35,
     "metadata": {},
     "output_type": "execute_result"
    }
   ],
   "source": [
    "dt = datetime.strptime(date, \"%d-%B-%Y\")\n",
    "type(dt.strftime(\"%d-%m-%Y\"))"
   ]
  },
  {
   "cell_type": "code",
   "execution_count": 41,
   "metadata": {},
   "outputs": [
    {
     "data": {
      "text/plain": [
       "datetime.datetime(2020, 3, 3, 0, 0)"
      ]
     },
     "execution_count": 41,
     "metadata": {},
     "output_type": "execute_result"
    }
   ],
   "source": [
    "dt"
   ]
  },
  {
   "cell_type": "code",
   "execution_count": 42,
   "metadata": {},
   "outputs": [],
   "source": [
    "# dir(datetime)"
   ]
  },
  {
   "cell_type": "code",
   "execution_count": null,
   "metadata": {},
   "outputs": [],
   "source": []
  }
 ],
 "metadata": {
  "kernelspec": {
   "display_name": "Python 3",
   "language": "python",
   "name": "python3"
  },
  "language_info": {
   "codemirror_mode": {
    "name": "ipython",
    "version": 3
   },
   "file_extension": ".py",
   "mimetype": "text/x-python",
   "name": "python",
   "nbconvert_exporter": "python",
   "pygments_lexer": "ipython3",
   "version": "3.7.4"
  }
 },
 "nbformat": 4,
 "nbformat_minor": 2
}
