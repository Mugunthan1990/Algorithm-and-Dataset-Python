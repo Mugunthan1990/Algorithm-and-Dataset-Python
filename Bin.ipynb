{
 "cells": [
  {
   "cell_type": "code",
   "execution_count": 3,
   "metadata": {},
   "outputs": [],
   "source": [
    "import pandas as pd\n",
    "import numpy as np"
   ]
  },
  {
   "cell_type": "code",
   "execution_count": 4,
   "metadata": {},
   "outputs": [
    {
     "data": {
      "text/plain": [
       "Index(['max_arr_by_inst_l3m', 'max_arr_by_inst_l6m', 'max_arr_by_inst_l9m',\n",
       "       'cur_overdue_by_inst', 'max_due_l3m_byinst', 'max_due_l6m_byinst',\n",
       "       'max_due_l9m_byinst', 'nonpay_run_l3m', 'nonpay_run_l6m', 'evr30_l3m',\n",
       "       'evr30_l6m', 'evr30_l9m', 'evr45_l3m', 'evr45_l6m', 'evr45_l9m',\n",
       "       'maxd_l3m', 'maxd_l6m', 'maxd_l9m', 'count_30d_3m', 'count_30d_6m',\n",
       "       'count_30d_9m', 'count_45d_3m', 'count_45d_6m', 'count_45d_9m',\n",
       "       'delq_30_run_3', 'delq_30_run_6', 'delq_30_run_9', 'def_60_12m'],\n",
       "      dtype='object')"
      ]
     },
     "execution_count": 4,
     "metadata": {},
     "output_type": "execute_result"
    }
   ],
   "source": [
    "df = pd.read_excel('Development_data - WOE and the analysis_Champion challenger.xlsx',sheet_name='Actual Data')\n",
    "df.columns"
   ]
  },
  {
   "cell_type": "code",
   "execution_count": null,
   "metadata": {},
   "outputs": [],
   "source": [
    "df4 =df2.pivot_table(index='max_arr_by_inst_l3m',columns='def_60_12m',aggfunc=len,fill_value=0)\n",
    "df4.info()\n",
    "df4.agg(func = 'mean')\n",
    "df4.groupby('max_arr_by_inst_l3m').sum()"
   ]
  },
  {
   "cell_type": "code",
   "execution_count": 6,
   "metadata": {
    "scrolled": false
   },
   "outputs": [
    {
     "name": "stdout",
     "output_type": "stream",
     "text": [
      "[1, 2, 3, 4, 5, 6, 7, 8, 9, 10]\n",
      "[1, 2, 3, 4, 5, 6, 7, 8, 9, 10]\n",
      "[1, 2, 3, 4, 5, 6, 7, 8, 9, 10]\n",
      "[1, 2, 3, 4, 5, 6, 7, 8, 9, 10]\n",
      "[1, 2, 3, 4, 5, 6, 7, 8, 9, 10]\n",
      "[1, 2, 3, 4, 5, 6, 7, 8, 9, 10]\n",
      "[1, 2, 3, 4, 5, 6, 7, 8, 9, 10]\n"
     ]
    }
   ],
   "source": [
    "#getting all the columns name\n",
    "X = df.columns\n",
    "IV_Finel_2= []\n",
    "\n",
    "\n",
    "for col in X[:-21]:\n",
    "    IV_Finel= []\n",
    "   \n",
    "    df2 = df[[col,'def_60_12m']]\n",
    "    df4 =df2.pivot_table(index=col,columns='def_60_12m',aggfunc=len,fill_value=0)\n",
    "    \n",
    "    df4.agg(func = 'mean')\n",
    "    df4.groupby(col).sum()\n",
    "    df5 = df4.reset_index(col)\n",
    "    \n",
    "\n",
    "    width = []\n",
    "    for value in  range(1,11,1):\n",
    "        width.append(value)\n",
    "    bins = [] \n",
    "    for w in width:\n",
    "        bins = []\n",
    "        df5 = df4.reset_index(col)\n",
    "\n",
    "        for b in np.linspace(0,int(df5[col].max())+int(df5[col].mean()),w) :\n",
    "            bins.append(float(b))\n",
    "        df5['bins'] = pd.cut(df5[col],bins,right = False,include_lowest=False,duplicates='drop')\n",
    "        df6 =df5.groupby(df5['bins']).sum()\n",
    "        IV_2 = []\n",
    "    \n",
    "\n",
    "        for item1,item2 in zip(df6[0],df6[1]):\n",
    "           \n",
    "            if df6[0].sum()  == 0:\n",
    "\n",
    "                WOE = 0\n",
    "            elif df6[1].sum() == 0:\n",
    "                WOE = 0\n",
    "            elif item1 == 0:\n",
    "                WOE = 0\n",
    "            elif item2 == 0:\n",
    "                WOE = 0   \n",
    "            else:\n",
    "                good = item1/df6[0].sum()\n",
    "                bad = item2/df6[1].sum()\n",
    "                WOE = np.log(good/bad)\n",
    "\n",
    "            IV = (good-bad)*WOE\n",
    "            IV_2.append(IV)\n",
    "\n",
    "        IV_Finel.append(sum(IV_2))\n",
    "\n",
    "    index_ = IV_Finel.index(max(IV_Finel))\n",
    "    \n",
    "    IV_Finel_2.append((col,max(IV_Finel),width[IV_Finel.index(max(IV_Finel))]))\n",
    "\n",
    "\n",
    "df_finel = pd.DataFrame(IV_Finel_2)\n",
    "\n",
    "df_finel = df_finel.rename(columns={0: \"Column_name\", 1: \"IV\", 2: \"Width\"})\n",
    "\n",
    "        \n",
    "df_finel.to_csv('output.csv')    \n"
   ]
  },
  {
   "cell_type": "code",
   "execution_count": null,
   "metadata": {},
   "outputs": [],
   "source": []
  }
 ],
 "metadata": {
  "kernelspec": {
   "display_name": "Python 3",
   "language": "python",
   "name": "python3"
  },
  "language_info": {
   "codemirror_mode": {
    "name": "ipython",
    "version": 3
   },
   "file_extension": ".py",
   "mimetype": "text/x-python",
   "name": "python",
   "nbconvert_exporter": "python",
   "pygments_lexer": "ipython3",
   "version": "3.7.4"
  }
 },
 "nbformat": 4,
 "nbformat_minor": 2
}
